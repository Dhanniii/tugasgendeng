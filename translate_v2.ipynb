{
 "cells": [
  {
   "cell_type": "markdown",
   "metadata": {},
   "source": [
    "# 🌐 PROGRAM TRANSLATE INDONESIA → ENGLISH\n",
    "\n",
    "---\n",
    "\n",
    "## **Kelompok 5 - Project Capstone Bu Erna**\n",
    "\n",
    "### **Bidang NLP: Machine Translation**\n",
    "\n",
    "---\n",
    "\n",
    "### **Anggota Kelompok:**\n",
    "1. Nama Anggota 1 (NPM: 123456789)\n",
    "2. Nama Anggota 2 (NPM: 123456790)\n",
    "3. Nama Anggota 3 (NPM: 123456791)\n",
    "4. Nama Anggota 4 (NPM: 123456792)\n",
    "\n",
    "---"
   ]
  },
  {
   "cell_type": "markdown",
   "metadata": {},
   "source": [
    "## 📚 Step 1: Install Library\n",
    "\n",
    "Install library `deep-translator` untuk translate"
   ]
  },
  {
   "cell_type": "code",
   "execution_count": null,
   "metadata": {},
   "outputs": [],
   "source": [
    "!pip install deep-translator"
   ]
  },
  {
   "cell_type": "markdown",
   "metadata": {},
   "source": [
    "## 📥 Step 2: Import Library\n",
    "\n",
    "Import library yang dibutuhkan"
   ]
  },
  {
   "cell_type": "code",
   "execution_count": null,
   "metadata": {},
   "outputs": [],
   "source": [
    "from deep_translator import GoogleTranslator\n",
    "\n",
    "print(\"✅ Library berhasil di-import!\")"
   ]
  },
  {
   "cell_type": "markdown",
   "metadata": {},
   "source": [
    "## 🎨 Step 3: Tampilkan Header ASCII Art"
   ]
  },
  {
   "cell_type": "code",
   "execution_count": null,
   "metadata": {},
   "outputs": [],
   "source": [
    "def tampilkan_header():\n",
    "    \"\"\"Menampilkan header ASCII art\"\"\"\n",
    "    print(\"=\" * 80)\n",
    "    print(\"\"\"\n",
    " ████████╗██████╗  █████╗ ███╗   ██╗███████╗██╗      █████╗ ████████╗███████╗\n",
    " ╚══██╔══╝██╔══██╗██╔══██╗████╗  ██║██╔════╝██║     ██╔══██╗╚══██╔══╝██╔════╝\n",
    "    ██║   ██████╔╝███████║██╔██╗ ██║███████╗██║     ███████║   ██║   █████╗  \n",
    "    ██║   ██╔══██╗██╔══██║██║╚██╗██║╚════██║██║     ██╔══██║   ██║   ██╔══╝  \n",
    "    ██║   ██║  ██║██║  ██║██║ ╚████║███████║███████╗██║  ██║   ██║   ███████╗\n",
    "    ╚═╝   ╚═╝  ╚═╝╚═╝  ╚═╝╚═╝  ╚═══╝╚══════╝╚══════╝╚═╝  ╚═╝   ╚═╝   ╚══════╝\n",
    "    \"\"\")\n",
    "    print(\"=\" * 80)\n",
    "    print(\"           Kelompok 5 - Project Capstone Bu Erna\")\n",
    "    print(\"              Bidang NLP: Machine Translation\")\n",
    "    print(\"            INDONESIA → ENGLISH\")\n",
    "    print(\"=\" * 80)\n",
    "\n",
    "tampilkan_header()"
   ]
  },
  {
   "cell_type": "markdown",
   "metadata": {},
   "source": [
    "## 🔧 Step 4: Fungsi Translate\n",
    "\n",
    "Fungsi untuk menerjemahkan teks dari Indonesia ke English"
   ]
  },
  {
   "cell_type": "code",
   "execution_count": null,
   "metadata": {},
   "outputs": [],
   "source": [
    "def translate_id_ke_en(teks):\n",
    "    \"\"\"\n",
    "    Fungsi untuk translate dari Indonesia ke English\n",
    "    \n",
    "    Parameter:\n",
    "        teks (str): Teks dalam bahasa Indonesia\n",
    "    \n",
    "    Return:\n",
    "        str: Hasil terjemahan dalam bahasa Inggris\n",
    "    \"\"\"\n",
    "    try:\n",
    "        translator = GoogleTranslator(source='id', target='en')\n",
    "        hasil = translator.translate(teks)\n",
    "        return hasil\n",
    "    except Exception as e:\n",
    "        return f\"Error: {e}\"\n",
    "\n",
    "print(\"✅ Fungsi translate berhasil dibuat!\")"
   ]
  },
  {
   "cell_type": "markdown",
   "metadata": {},
   "source": [
    "## 🧪 Step 5: Testing Translate - Contoh 1\n",
    "\n",
    "Test translate dengan kalimat sederhana"
   ]
  },
  {
   "cell_type": "code",
   "execution_count": null,
   "metadata": {},
   "outputs": [],
   "source": [
    "# Contoh 1: Kalimat sederhana\n",
    "teks1 = \"Halo, apa kabar?\"\n",
    "hasil1 = translate_id_ke_en(teks1)\n",
    "\n",
    "print(\"=\" * 80)\n",
    "print(\"📝 CONTOH 1: Kalimat Sederhana\")\n",
    "print(\"-\" * 80)\n",
    "print(f\"Teks Asli (ID): {teks1}\")\n",
    "print(f\"Hasil (EN)    : {hasil1}\")\n",
    "print(\"=\" * 80)"
   ]
  },
  {
   "cell_type": "markdown",
   "metadata": {},
   "source": [
    "## 🧪 Step 6: Testing Translate - Contoh 2\n",
    "\n",
    "Test translate dengan kalimat lebih panjang"
   ]
  },
  {
   "cell_type": "code",
   "execution_count": null,
   "metadata": {},
   "outputs": [],
   "source": [
    "# Contoh 2: Kalimat panjang tentang NLP\n",
    "teks2 = \"Pemrosesan Bahasa Alami adalah cabang dari kecerdasan buatan yang membantu komputer memahami, menafsirkan, dan memanipulasi bahasa manusia.\"\n",
    "hasil2 = translate_id_ke_en(teks2)\n",
    "\n",
    "print(\"=\" * 80)\n",
    "print(\"📝 CONTOH 2: Kalimat Panjang (NLP)\")\n",
    "print(\"-\" * 80)\n",
    "print(f\"Teks Asli (ID): {teks2}\")\n",
    "print(f\"Hasil (EN)    : {hasil2}\")\n",
    "print(\"=\" * 80)"
   ]
  },
  {
   "cell_type": "markdown",
   "metadata": {},
   "source": [
    "## 🧪 Step 7: Testing Translate - Contoh 3\n",
    "\n",
    "Test translate dengan teks formal"
   ]
  },
  {
   "cell_type": "code",
   "execution_count": null,
   "metadata": {},
   "outputs": [],
   "source": [
    "# Contoh 3: Teks formal\n",
    "teks3 = \"Penerjemahan mesin adalah salah satu aplikasi paling penting dari Pemrosesan Bahasa Alami dalam teknologi modern.\"\n",
    "hasil3 = translate_id_ke_en(teks3)\n",
    "\n",
    "print(\"=\" * 80)\n",
    "print(\"📝 CONTOH 3: Teks Formal\")\n",
    "print(\"-\" * 80)\n",
    "print(f\"Teks Asli (ID): {teks3}\")\n",
    "print(f\"Hasil (EN)    : {hasil3}\")\n",
    "print(\"=\" * 80)"
   ]
  },
  {
   "cell_type": "markdown",
   "metadata": {},
   "source": [
    "## ✍️ Step 8: Input Manual - Coba Sendiri!\n",
    "\n",
    "Sekarang giliran Anda mencoba translate sendiri!"
   ]
  },
  {
   "cell_type": "code",
   "execution_count": null,
   "metadata": {},
   "outputs": [],
   "source": [
    "# Input teks sendiri\n",
    "print(\"\\n🔹 Masukkan teks dalam bahasa Indonesia:\")\n",
    "teks_input = input(\">> \")\n",
    "\n",
    "if teks_input.strip():\n",
    "    print(\"\\n⏳ Menerjemahkan...\")\n",
    "    hasil_translate = translate_id_ke_en(teks_input)\n",
    "    \n",
    "    print(\"\\n\" + \"=\" * 80)\n",
    "    print(\"📝 HASIL TRANSLATE\")\n",
    "    print(\"-\" * 80)\n",
    "    print(f\"Teks Asli (ID): {teks_input}\")\n",
    "    print(f\"Hasil (EN)    : {hasil_translate}\")\n",
    "    print(\"=\" * 80)\n",
    "else:\n",
    "    print(\"❌ Teks tidak boleh kosong!\")"
   ]
  },
  {
   "cell_type": "markdown",
   "metadata": {},
   "source": [
    "## 📊 Step 9: Analisis Hasil\n",
    "\n",
    "Menampilkan statistik dari hasil translate"
   ]
  },
  {
   "cell_type": "code",
   "execution_count": null,
   "metadata": {},
   "outputs": [],
   "source": [
    "def analisis_teks(teks_asli, teks_hasil):\n",
    "    \"\"\"\n",
    "    Fungsi untuk menganalisis hasil translate\n",
    "    \"\"\"\n",
    "    print(\"\\n\" + \"=\" * 80)\n",
    "    print(\"📊 ANALISIS HASIL TRANSLATE\")\n",
    "    print(\"-\" * 80)\n",
    "    print(f\"Jumlah karakter (ID): {len(teks_asli)}\")\n",
    "    print(f\"Jumlah karakter (EN): {len(teks_hasil)}\")\n",
    "    print(f\"Jumlah kata (ID)    : {len(teks_asli.split())}\")\n",
    "    print(f\"Jumlah kata (EN)    : {len(teks_hasil.split())}\")\n",
    "    print(\"=\" * 80)\n",
    "\n",
    "# Analisis contoh terakhir\n",
    "if 'teks_input' in locals() and 'hasil_translate' in locals():\n",
    "    analisis_teks(teks_input, hasil_translate)"
   ]
  },
  {
   "cell_type": "markdown",
   "metadata": {},
   "source": [
    "## 📝 Kesimpulan\n",
    "\n",
    "Program ini berhasil mengimplementasikan **Machine Translation** sebagai salah satu cabang **Natural Language Processing (NLP)**.\n",
    "\n",
    "### Fitur yang diimplementasikan:\n",
    "- ✅ Machine Translation (ID → EN)\n",
    "- ✅ Text Processing\n",
    "- ✅ Analisis hasil translate\n",
    "- ✅ Interface sederhana dan mudah digunakan\n",
    "\n",
    "### Library yang digunakan:\n",
    "- **deep-translator**: Library ringan untuk translate menggunakan Google Translate API\n",
    "\n",
    "---\n",
    "\n",
    "**Terima kasih!** 🙏"
   ]
  }
 ],
 "metadata": {
  "kernelspec": {
   "display_name": "Python 3",
   "language": "python",
   "name": "python3"
  },
  "language_info": {
   "codemirror_mode": {
    "name": "ipython",
    "version": 3
   },
   "file_extension": ".py",
   "mimetype": "text/x-python",
   "name": "python",
   "nbconvert_exporter": "python",
   "pygments_lexer": "ipython3",
   "version": "3.8.0"
  }
 },
 "nbformat": 4,
 "nbformat_minor": 4
}
